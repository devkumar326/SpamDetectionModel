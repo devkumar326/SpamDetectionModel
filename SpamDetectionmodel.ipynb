{
  "nbformat": 4,
  "nbformat_minor": 0,
  "metadata": {
    "colab": {
      "name": "SpamDetectionmodel.ipynb",
      "provenance": [],
      "authorship_tag": "ABX9TyM6/r18/Tss3nCAsoOza2m/",
      "include_colab_link": true
    },
    "kernelspec": {
      "name": "python3",
      "display_name": "Python 3"
    }
  },
  "cells": [
    {
      "cell_type": "markdown",
      "metadata": {
        "id": "view-in-github",
        "colab_type": "text"
      },
      "source": [
        "<a href=\"https://colab.research.google.com/github/devkumar326/SpamDetectionModel/blob/main/SpamDetectionmodel.ipynb\" target=\"_parent\"><img src=\"https://colab.research.google.com/assets/colab-badge.svg\" alt=\"Open In Colab\"/></a>"
      ]
    },
    {
      "cell_type": "code",
      "metadata": {
        "colab": {
          "base_uri": "https://localhost:8080/"
        },
        "id": "h2MrxKfdnU_s",
        "outputId": "cd1a8c2f-3915-4b38-d8cd-d5b99cc4e7aa"
      },
      "source": [
        "from google.colab import drive\r\n",
        "drive.mount(\"/content/gdrive\")"
      ],
      "execution_count": 2,
      "outputs": [
        {
          "output_type": "stream",
          "text": [
            "Mounted at /content/gdrive\n"
          ],
          "name": "stdout"
        }
      ]
    },
    {
      "cell_type": "code",
      "metadata": {
        "id": "ZmWy2VFRoMu7"
      },
      "source": [
        "#Importing Libraries\r\n",
        "import pandas as pd\r\n",
        "import nltk\r\n",
        "from nltk.corpus import stopwords\r\n",
        "from sklearn.feature_extraction.text import TfidfVectorizer\r\n",
        "from sklearn.model_selection import train_test_split\r\n",
        "from sklearn import naive_bayes\r\n",
        "from sklearn.metrics import roc_auc_score"
      ],
      "execution_count": 3,
      "outputs": []
    },
    {
      "cell_type": "code",
      "metadata": {
        "colab": {
          "base_uri": "https://localhost:8080/",
          "height": 204
        },
        "id": "XbEgZCTIqBBj",
        "outputId": "e09d0c2c-4d05-4830-e9f3-50a0e7c8c327"
      },
      "source": [
        "df= pd.read_csv('/content/gdrive/My Drive/sms_spam.csv')\r\n",
        "df.head()"
      ],
      "execution_count": 4,
      "outputs": [
        {
          "output_type": "execute_result",
          "data": {
            "text/html": [
              "<div>\n",
              "<style scoped>\n",
              "    .dataframe tbody tr th:only-of-type {\n",
              "        vertical-align: middle;\n",
              "    }\n",
              "\n",
              "    .dataframe tbody tr th {\n",
              "        vertical-align: top;\n",
              "    }\n",
              "\n",
              "    .dataframe thead th {\n",
              "        text-align: right;\n",
              "    }\n",
              "</style>\n",
              "<table border=\"1\" class=\"dataframe\">\n",
              "  <thead>\n",
              "    <tr style=\"text-align: right;\">\n",
              "      <th></th>\n",
              "      <th>type</th>\n",
              "      <th>text</th>\n",
              "    </tr>\n",
              "  </thead>\n",
              "  <tbody>\n",
              "    <tr>\n",
              "      <th>0</th>\n",
              "      <td>ham</td>\n",
              "      <td>Go until jurong point, crazy.. Available only ...</td>\n",
              "    </tr>\n",
              "    <tr>\n",
              "      <th>1</th>\n",
              "      <td>ham</td>\n",
              "      <td>Ok lar... Joking wif u oni...</td>\n",
              "    </tr>\n",
              "    <tr>\n",
              "      <th>2</th>\n",
              "      <td>spam</td>\n",
              "      <td>Free entry in 2 a wkly comp to win FA Cup fina...</td>\n",
              "    </tr>\n",
              "    <tr>\n",
              "      <th>3</th>\n",
              "      <td>ham</td>\n",
              "      <td>U dun say so early hor... U c already then say...</td>\n",
              "    </tr>\n",
              "    <tr>\n",
              "      <th>4</th>\n",
              "      <td>ham</td>\n",
              "      <td>Nah I don't think he goes to usf, he lives aro...</td>\n",
              "    </tr>\n",
              "  </tbody>\n",
              "</table>\n",
              "</div>"
            ],
            "text/plain": [
              "   type                                               text\n",
              "0   ham  Go until jurong point, crazy.. Available only ...\n",
              "1   ham                      Ok lar... Joking wif u oni...\n",
              "2  spam  Free entry in 2 a wkly comp to win FA Cup fina...\n",
              "3   ham  U dun say so early hor... U c already then say...\n",
              "4   ham  Nah I don't think he goes to usf, he lives aro..."
            ]
          },
          "metadata": {
            "tags": []
          },
          "execution_count": 4
        }
      ]
    },
    {
      "cell_type": "code",
      "metadata": {
        "id": "5xfeq86NqJ0Z"
      },
      "source": [
        "df.type.replace('spam', 1, inplace=True)\r\n",
        "df.type.replace('ham', 0, inplace=True)"
      ],
      "execution_count": 5,
      "outputs": []
    },
    {
      "cell_type": "code",
      "metadata": {
        "colab": {
          "base_uri": "https://localhost:8080/",
          "height": 204
        },
        "id": "Td0BB4sgqOO2",
        "outputId": "f0297c5b-355a-4d24-9c93-b4eefe105ea0"
      },
      "source": [
        "df.head()"
      ],
      "execution_count": 6,
      "outputs": [
        {
          "output_type": "execute_result",
          "data": {
            "text/html": [
              "<div>\n",
              "<style scoped>\n",
              "    .dataframe tbody tr th:only-of-type {\n",
              "        vertical-align: middle;\n",
              "    }\n",
              "\n",
              "    .dataframe tbody tr th {\n",
              "        vertical-align: top;\n",
              "    }\n",
              "\n",
              "    .dataframe thead th {\n",
              "        text-align: right;\n",
              "    }\n",
              "</style>\n",
              "<table border=\"1\" class=\"dataframe\">\n",
              "  <thead>\n",
              "    <tr style=\"text-align: right;\">\n",
              "      <th></th>\n",
              "      <th>type</th>\n",
              "      <th>text</th>\n",
              "    </tr>\n",
              "  </thead>\n",
              "  <tbody>\n",
              "    <tr>\n",
              "      <th>0</th>\n",
              "      <td>0</td>\n",
              "      <td>Go until jurong point, crazy.. Available only ...</td>\n",
              "    </tr>\n",
              "    <tr>\n",
              "      <th>1</th>\n",
              "      <td>0</td>\n",
              "      <td>Ok lar... Joking wif u oni...</td>\n",
              "    </tr>\n",
              "    <tr>\n",
              "      <th>2</th>\n",
              "      <td>1</td>\n",
              "      <td>Free entry in 2 a wkly comp to win FA Cup fina...</td>\n",
              "    </tr>\n",
              "    <tr>\n",
              "      <th>3</th>\n",
              "      <td>0</td>\n",
              "      <td>U dun say so early hor... U c already then say...</td>\n",
              "    </tr>\n",
              "    <tr>\n",
              "      <th>4</th>\n",
              "      <td>0</td>\n",
              "      <td>Nah I don't think he goes to usf, he lives aro...</td>\n",
              "    </tr>\n",
              "  </tbody>\n",
              "</table>\n",
              "</div>"
            ],
            "text/plain": [
              "   type                                               text\n",
              "0     0  Go until jurong point, crazy.. Available only ...\n",
              "1     0                      Ok lar... Joking wif u oni...\n",
              "2     1  Free entry in 2 a wkly comp to win FA Cup fina...\n",
              "3     0  U dun say so early hor... U c already then say...\n",
              "4     0  Nah I don't think he goes to usf, he lives aro..."
            ]
          },
          "metadata": {
            "tags": []
          },
          "execution_count": 6
        }
      ]
    },
    {
      "cell_type": "code",
      "metadata": {
        "colab": {
          "base_uri": "https://localhost:8080/"
        },
        "id": "PwJ8oB0qqRpV",
        "outputId": "f4a29b2c-2190-48fc-eae7-987b5843df41"
      },
      "source": [
        "df.shape"
      ],
      "execution_count": 7,
      "outputs": [
        {
          "output_type": "execute_result",
          "data": {
            "text/plain": [
              "(5574, 2)"
            ]
          },
          "metadata": {
            "tags": []
          },
          "execution_count": 7
        }
      ]
    },
    {
      "cell_type": "code",
      "metadata": {
        "id": "Wt9XWL1vqWGZ"
      },
      "source": [
        "y = df.type"
      ],
      "execution_count": 8,
      "outputs": []
    },
    {
      "cell_type": "code",
      "metadata": {
        "colab": {
          "base_uri": "https://localhost:8080/"
        },
        "id": "voamKvp5qcaN",
        "outputId": "317af4c3-f64d-4302-9b85-2d73bb19d692"
      },
      "source": [
        "df.text"
      ],
      "execution_count": 9,
      "outputs": [
        {
          "output_type": "execute_result",
          "data": {
            "text/plain": [
              "0       Go until jurong point, crazy.. Available only ...\n",
              "1                           Ok lar... Joking wif u oni...\n",
              "2       Free entry in 2 a wkly comp to win FA Cup fina...\n",
              "3       U dun say so early hor... U c already then say...\n",
              "4       Nah I don't think he goes to usf, he lives aro...\n",
              "                              ...                        \n",
              "5569    This is the 2nd time we have tried 2 contact u...\n",
              "5570                 Will ü b going to esplanade fr home?\n",
              "5571    Pity, * was in mood for that. So...any other s...\n",
              "5572    The guy did some bitching but I acted like i'd...\n",
              "5573                           Rofl. Its true to its name\n",
              "Name: text, Length: 5574, dtype: object"
            ]
          },
          "metadata": {
            "tags": []
          },
          "execution_count": 9
        }
      ]
    },
    {
      "cell_type": "code",
      "metadata": {
        "colab": {
          "base_uri": "https://localhost:8080/"
        },
        "id": "eAUwp2uqqiTe",
        "outputId": "cd7f7750-d8e7-4573-a239-8d6b6ecc98ef"
      },
      "source": [
        "import nltk\r\n",
        "nltk.download('stopwords')"
      ],
      "execution_count": 10,
      "outputs": [
        {
          "output_type": "stream",
          "text": [
            "[nltk_data] Downloading package stopwords to /root/nltk_data...\n",
            "[nltk_data]   Unzipping corpora/stopwords.zip.\n"
          ],
          "name": "stdout"
        },
        {
          "output_type": "execute_result",
          "data": {
            "text/plain": [
              "True"
            ]
          },
          "metadata": {
            "tags": []
          },
          "execution_count": 10
        }
      ]
    },
    {
      "cell_type": "code",
      "metadata": {
        "id": "ul0gegKtqm9a"
      },
      "source": [
        "stopset = set(stopwords.words('english'))\r\n",
        "vectorizer = TfidfVectorizer(use_idf=True, lowercase=True, strip_accents='ascii', stop_words=stopset)"
      ],
      "execution_count": 11,
      "outputs": []
    },
    {
      "cell_type": "code",
      "metadata": {
        "colab": {
          "base_uri": "https://localhost:8080/"
        },
        "id": "eIniOHyCqrpB",
        "outputId": "af0f2454-4107-4e69-9430-b1a41e9e1937"
      },
      "source": [
        "X = vectorizer.fit_transform(df.text)\r\n",
        "X.shape"
      ],
      "execution_count": 12,
      "outputs": [
        {
          "output_type": "execute_result",
          "data": {
            "text/plain": [
              "(5574, 8586)"
            ]
          },
          "metadata": {
            "tags": []
          },
          "execution_count": 12
        }
      ]
    },
    {
      "cell_type": "code",
      "metadata": {
        "colab": {
          "base_uri": "https://localhost:8080/"
        },
        "id": "4Lz1_0mCqvLl",
        "outputId": "3f3022b8-1f02-417a-f438-0651b7a6bd62"
      },
      "source": [
        "X.data"
      ],
      "execution_count": 13,
      "outputs": [
        {
          "output_type": "execute_result",
          "data": {
            "text/plain": [
              "array([0.19367544, 0.34661851, 0.16250347, ..., 0.69423987, 0.53028734,\n",
              "       0.48664807])"
            ]
          },
          "metadata": {
            "tags": []
          },
          "execution_count": 13
        }
      ]
    },
    {
      "cell_type": "code",
      "metadata": {
        "colab": {
          "base_uri": "https://localhost:8080/",
          "height": 35
        },
        "id": "hHO7gBB9qy54",
        "outputId": "309b9cd6-0e88-4267-cc29-a6c7fdde491b"
      },
      "source": [
        "df.text[0]"
      ],
      "execution_count": 14,
      "outputs": [
        {
          "output_type": "execute_result",
          "data": {
            "application/vnd.google.colaboratory.intrinsic+json": {
              "type": "string"
            },
            "text/plain": [
              "'Go until jurong point, crazy.. Available only in bugis n great world la e buffet... Cine there got amore wat...'"
            ]
          },
          "metadata": {
            "tags": []
          },
          "execution_count": 14
        }
      ]
    },
    {
      "cell_type": "code",
      "metadata": {
        "colab": {
          "base_uri": "https://localhost:8080/"
        },
        "id": "HFhn4HfIq7a6",
        "outputId": "5a8013ab-8629-4f6f-91c5-15df94f71064"
      },
      "source": [
        "splt_txt1=df.text[0].split()\r\n",
        "print(splt_txt1)"
      ],
      "execution_count": 15,
      "outputs": [
        {
          "output_type": "stream",
          "text": [
            "['Go', 'until', 'jurong', 'point,', 'crazy..', 'Available', 'only', 'in', 'bugis', 'n', 'great', 'world', 'la', 'e', 'buffet...', 'Cine', 'there', 'got', 'amore', 'wat...']\n"
          ],
          "name": "stdout"
        }
      ]
    },
    {
      "cell_type": "code",
      "metadata": {
        "colab": {
          "base_uri": "https://localhost:8080/"
        },
        "id": "56n4BuWuq9Wt",
        "outputId": "5e3f0c27-e819-444f-b465-da5c2d5474dd"
      },
      "source": [
        "len(splt_txt1)"
      ],
      "execution_count": 16,
      "outputs": [
        {
          "output_type": "execute_result",
          "data": {
            "text/plain": [
              "20"
            ]
          },
          "metadata": {
            "tags": []
          },
          "execution_count": 16
        }
      ]
    },
    {
      "cell_type": "code",
      "metadata": {
        "colab": {
          "base_uri": "https://localhost:8080/"
        },
        "id": "86-78fqerAoF",
        "outputId": "df4187cf-4971-4f0f-f848-7935bfb16bb7"
      },
      "source": [
        "print(X[0])"
      ],
      "execution_count": 17,
      "outputs": [
        {
          "output_type": "stream",
          "text": [
            "  (0, 8218)\t0.1936754385697072\n",
            "  (0, 1074)\t0.34661850736522926\n",
            "  (0, 3580)\t0.16250347021789968\n",
            "  (0, 2038)\t0.29282687644410044\n",
            "  (0, 1744)\t0.33088546389448276\n",
            "  (0, 4442)\t0.29282687644410044\n",
            "  (0, 8428)\t0.23446497404204306\n",
            "  (0, 3620)\t0.19147848622350874\n",
            "  (0, 1746)\t0.29282687644410044\n",
            "  (0, 1301)\t0.25926284833436075\n",
            "  (0, 2316)\t0.2684353143416924\n",
            "  (0, 5877)\t0.27111240744926074\n",
            "  (0, 4316)\t0.34661850736522926\n",
            "  (0, 3536)\t0.15700708175427927\n"
          ],
          "name": "stdout"
        }
      ]
    },
    {
      "cell_type": "code",
      "metadata": {
        "colab": {
          "base_uri": "https://localhost:8080/",
          "height": 35
        },
        "id": "NPgomzNIrFxI",
        "outputId": "f07755b7-2355-47ab-ced6-0b9c073e29ac"
      },
      "source": [
        "## 4316 is the position of the word jurong\r\n",
        "vectorizer.get_feature_names()[8585] "
      ],
      "execution_count": 18,
      "outputs": [
        {
          "output_type": "execute_result",
          "data": {
            "application/vnd.google.colaboratory.intrinsic+json": {
              "type": "string"
            },
            "text/plain": [
              "'zyada'"
            ]
          },
          "metadata": {
            "tags": []
          },
          "execution_count": 18
        }
      ]
    },
    {
      "cell_type": "code",
      "metadata": {
        "colab": {
          "base_uri": "https://localhost:8080/"
        },
        "id": "tylcV3D7rPqH",
        "outputId": "8ef994de-5246-4664-e2ff-90cd040457e5"
      },
      "source": [
        "splt_txt2=df.text[1].split()\r\n",
        "print(splt_txt2)"
      ],
      "execution_count": 19,
      "outputs": [
        {
          "output_type": "stream",
          "text": [
            "['Ok', 'lar...', 'Joking', 'wif', 'u', 'oni...']\n"
          ],
          "name": "stdout"
        }
      ]
    },
    {
      "cell_type": "code",
      "metadata": {
        "colab": {
          "base_uri": "https://localhost:8080/"
        },
        "id": "R3BggRW-rRVR",
        "outputId": "c660c92f-283d-4b2a-aa4c-c69e3f82d01c"
      },
      "source": [
        "len(splt_txt2)"
      ],
      "execution_count": 20,
      "outputs": [
        {
          "output_type": "execute_result",
          "data": {
            "text/plain": [
              "6"
            ]
          },
          "metadata": {
            "tags": []
          },
          "execution_count": 20
        }
      ]
    },
    {
      "cell_type": "code",
      "metadata": {
        "colab": {
          "base_uri": "https://localhost:8080/"
        },
        "id": "koC6h-nSrUra",
        "outputId": "f9db7b9a-1f86-43ae-ad88-1891d6f19637"
      },
      "source": [
        "print(X[1])"
      ],
      "execution_count": 21,
      "outputs": [
        {
          "output_type": "stream",
          "text": [
            "  (0, 5493)\t0.5466195966483365\n",
            "  (0, 8333)\t0.4316309977097208\n",
            "  (0, 4284)\t0.5236769406481622\n",
            "  (0, 4478)\t0.4083285209202484\n",
            "  (0, 5466)\t0.27190435673704183\n"
          ],
          "name": "stdout"
        }
      ]
    },
    {
      "cell_type": "code",
      "metadata": {
        "colab": {
          "base_uri": "https://localhost:8080/",
          "height": 35
        },
        "id": "62qy6zZ6ralz",
        "outputId": "2941ad0a-300c-494a-c71d-2f1f197962fa"
      },
      "source": [
        "max(splt_txt2)"
      ],
      "execution_count": 22,
      "outputs": [
        {
          "output_type": "execute_result",
          "data": {
            "application/vnd.google.colaboratory.intrinsic+json": {
              "type": "string"
            },
            "text/plain": [
              "'wif'"
            ]
          },
          "metadata": {
            "tags": []
          },
          "execution_count": 22
        }
      ]
    },
    {
      "cell_type": "code",
      "metadata": {
        "colab": {
          "base_uri": "https://localhost:8080/",
          "height": 35
        },
        "id": "Fsyrs6NrrfCC",
        "outputId": "06869c3b-8df8-4c77-f407-5c3919dda98c"
      },
      "source": [
        "max(vectorizer.get_feature_names())"
      ],
      "execution_count": 23,
      "outputs": [
        {
          "output_type": "execute_result",
          "data": {
            "application/vnd.google.colaboratory.intrinsic+json": {
              "type": "string"
            },
            "text/plain": [
              "'zyada'"
            ]
          },
          "metadata": {
            "tags": []
          },
          "execution_count": 23
        }
      ]
    },
    {
      "cell_type": "code",
      "metadata": {
        "colab": {
          "base_uri": "https://localhost:8080/"
        },
        "id": "UZOXr4jTrke6",
        "outputId": "e97b7e06-93b6-407f-bcfe-368d2cee6c5c"
      },
      "source": [
        "len(vectorizer.get_feature_names())"
      ],
      "execution_count": 24,
      "outputs": [
        {
          "output_type": "execute_result",
          "data": {
            "text/plain": [
              "8586"
            ]
          },
          "metadata": {
            "tags": []
          },
          "execution_count": 24
        }
      ]
    },
    {
      "cell_type": "code",
      "metadata": {
        "colab": {
          "base_uri": "https://localhost:8080/"
        },
        "id": "F2szcQTqrl-s",
        "outputId": "17cab35d-d8dc-441e-cdb6-d3a8701ffee1"
      },
      "source": [
        "print (y.shape)\r\n",
        "print (X.shape)"
      ],
      "execution_count": 25,
      "outputs": [
        {
          "output_type": "stream",
          "text": [
            "(5574,)\n",
            "(5574, 8586)\n"
          ],
          "name": "stdout"
        }
      ]
    },
    {
      "cell_type": "code",
      "metadata": {
        "id": "IoWAP8scrs49"
      },
      "source": [
        "X_train, X_test, y_train, y_test = train_test_split(X, y, random_state=42)"
      ],
      "execution_count": 26,
      "outputs": []
    },
    {
      "cell_type": "code",
      "metadata": {
        "colab": {
          "base_uri": "https://localhost:8080/"
        },
        "id": "2etlsitJrwlt",
        "outputId": "18e56689-d49d-4d69-f39c-7e0cb901d643"
      },
      "source": [
        "X_train"
      ],
      "execution_count": 27,
      "outputs": [
        {
          "output_type": "execute_result",
          "data": {
            "text/plain": [
              "<4180x8586 sparse matrix of type '<class 'numpy.float64'>'\n",
              "\twith 35573 stored elements in Compressed Sparse Row format>"
            ]
          },
          "metadata": {
            "tags": []
          },
          "execution_count": 27
        }
      ]
    },
    {
      "cell_type": "code",
      "metadata": {
        "id": "pEFZRGZar0ZD"
      },
      "source": [
        "clf = naive_bayes.MultinomialNB()\r\n",
        "model=clf.fit(X_train, y_train)"
      ],
      "execution_count": 28,
      "outputs": []
    },
    {
      "cell_type": "code",
      "metadata": {
        "colab": {
          "base_uri": "https://localhost:8080/"
        },
        "id": "ycv_FA7zr3tG",
        "outputId": "c6a9da5d-e298-494b-8eaf-98fe09131ec2"
      },
      "source": [
        "clf.feature_log_prob_"
      ],
      "execution_count": 29,
      "outputs": [
        {
          "output_type": "execute_result",
          "data": {
            "text/plain": [
              "array([[-9.77311336, -9.77311336, -9.55891456, ..., -9.50688483,\n",
              "        -9.77311336, -9.77311336],\n",
              "       [-8.32004619, -7.47951669, -9.28059652, ..., -9.28059652,\n",
              "        -9.03360849, -9.28059652]])"
            ]
          },
          "metadata": {
            "tags": []
          },
          "execution_count": 29
        }
      ]
    },
    {
      "cell_type": "code",
      "metadata": {
        "colab": {
          "base_uri": "https://localhost:8080/"
        },
        "id": "b7DtSHoJr6p4",
        "outputId": "b364e85b-75cf-406d-c322-3c294c785df3"
      },
      "source": [
        "clf.coef_"
      ],
      "execution_count": 30,
      "outputs": [
        {
          "output_type": "execute_result",
          "data": {
            "text/plain": [
              "array([[-8.32004619, -7.47951669, -9.28059652, ..., -9.28059652,\n",
              "        -9.03360849, -9.28059652]])"
            ]
          },
          "metadata": {
            "tags": []
          },
          "execution_count": 30
        }
      ]
    },
    {
      "cell_type": "code",
      "metadata": {
        "colab": {
          "base_uri": "https://localhost:8080/"
        },
        "id": "zKitxI1AsCEU",
        "outputId": "4681d277-063f-4c63-be7b-ce3793a2e2d4"
      },
      "source": [
        "predicted_class=model.predict(X_test)\r\n",
        "print(predicted_class)"
      ],
      "execution_count": 31,
      "outputs": [
        {
          "output_type": "stream",
          "text": [
            "[0 0 0 ... 0 0 0]\n"
          ],
          "name": "stdout"
        }
      ]
    },
    {
      "cell_type": "code",
      "metadata": {
        "colab": {
          "base_uri": "https://localhost:8080/"
        },
        "id": "TcA3yLDTsHOv",
        "outputId": "d18a1fca-de67-412a-b66c-4fd74dc7fa7a"
      },
      "source": [
        "print(y_test)"
      ],
      "execution_count": 32,
      "outputs": [
        {
          "output_type": "stream",
          "text": [
            "3690    0\n",
            "3527    0\n",
            "724     0\n",
            "3370    0\n",
            "468     0\n",
            "       ..\n",
            "19      1\n",
            "4758    0\n",
            "668     0\n",
            "218     0\n",
            "4660    0\n",
            "Name: type, Length: 1394, dtype: int64\n"
          ],
          "name": "stdout"
        }
      ]
    },
    {
      "cell_type": "code",
      "metadata": {
        "colab": {
          "base_uri": "https://localhost:8080/",
          "height": 80
        },
        "id": "c2RvwZgIsKtf",
        "outputId": "bbd8fc57-78bb-416d-9008-d0478737c956"
      },
      "source": [
        "df.loc[[19]]"
      ],
      "execution_count": 33,
      "outputs": [
        {
          "output_type": "execute_result",
          "data": {
            "text/html": [
              "<div>\n",
              "<style scoped>\n",
              "    .dataframe tbody tr th:only-of-type {\n",
              "        vertical-align: middle;\n",
              "    }\n",
              "\n",
              "    .dataframe tbody tr th {\n",
              "        vertical-align: top;\n",
              "    }\n",
              "\n",
              "    .dataframe thead th {\n",
              "        text-align: right;\n",
              "    }\n",
              "</style>\n",
              "<table border=\"1\" class=\"dataframe\">\n",
              "  <thead>\n",
              "    <tr style=\"text-align: right;\">\n",
              "      <th></th>\n",
              "      <th>type</th>\n",
              "      <th>text</th>\n",
              "    </tr>\n",
              "  </thead>\n",
              "  <tbody>\n",
              "    <tr>\n",
              "      <th>19</th>\n",
              "      <td>1</td>\n",
              "      <td>England v Macedonia - dont miss the goals/team...</td>\n",
              "    </tr>\n",
              "  </tbody>\n",
              "</table>\n",
              "</div>"
            ],
            "text/plain": [
              "    type                                               text\n",
              "19     1  England v Macedonia - dont miss the goals/team..."
            ]
          },
          "metadata": {
            "tags": []
          },
          "execution_count": 33
        }
      ]
    },
    {
      "cell_type": "code",
      "metadata": {
        "colab": {
          "base_uri": "https://localhost:8080/"
        },
        "id": "kqMDJEcQsOAF",
        "outputId": "72100634-ca9e-4162-8784-b501538f6043"
      },
      "source": [
        "predicted_class[19]"
      ],
      "execution_count": 34,
      "outputs": [
        {
          "output_type": "execute_result",
          "data": {
            "text/plain": [
              "0"
            ]
          },
          "metadata": {
            "tags": []
          },
          "execution_count": 34
        }
      ]
    },
    {
      "cell_type": "code",
      "metadata": {
        "colab": {
          "base_uri": "https://localhost:8080/"
        },
        "id": "g_qfW_V5sRsO",
        "outputId": "4b91fb04-1722-44d0-bf46-1f4d3ee17bee"
      },
      "source": [
        "prd=model.predict_proba(X_test)\r\n",
        "prd"
      ],
      "execution_count": 35,
      "outputs": [
        {
          "output_type": "execute_result",
          "data": {
            "text/plain": [
              "array([[0.99729642, 0.00270358],\n",
              "       [0.98498819, 0.01501181],\n",
              "       [0.9333622 , 0.0666378 ],\n",
              "       ...,\n",
              "       [0.99196715, 0.00803285],\n",
              "       [0.9860348 , 0.0139652 ],\n",
              "       [0.99650379, 0.00349621]])"
            ]
          },
          "metadata": {
            "tags": []
          },
          "execution_count": 35
        }
      ]
    },
    {
      "cell_type": "code",
      "metadata": {
        "colab": {
          "base_uri": "https://localhost:8080/"
        },
        "id": "IAkRQ461sULc",
        "outputId": "2c9e08b7-98b7-40e6-f2bc-8f810e618afc"
      },
      "source": [
        "clf.predict_proba(X_test)[:,0]"
      ],
      "execution_count": 36,
      "outputs": [
        {
          "output_type": "execute_result",
          "data": {
            "text/plain": [
              "array([0.99729642, 0.98498819, 0.9333622 , ..., 0.99196715, 0.9860348 ,\n",
              "       0.99650379])"
            ]
          },
          "metadata": {
            "tags": []
          },
          "execution_count": 36
        }
      ]
    },
    {
      "cell_type": "code",
      "metadata": {
        "colab": {
          "base_uri": "https://localhost:8080/"
        },
        "id": "gueRspZnsXsJ",
        "outputId": "d9ecfa55-7873-471e-d18e-9de9e1ef66db"
      },
      "source": [
        "roc_auc_score(y_train, clf.predict_proba(X_train)[:,1])"
      ],
      "execution_count": 37,
      "outputs": [
        {
          "output_type": "execute_result",
          "data": {
            "text/plain": [
              "0.997599437006686"
            ]
          },
          "metadata": {
            "tags": []
          },
          "execution_count": 37
        }
      ]
    },
    {
      "cell_type": "code",
      "metadata": {
        "colab": {
          "base_uri": "https://localhost:8080/"
        },
        "id": "NXFWDtFKscvB",
        "outputId": "5843d240-fc3a-4ffa-aa00-b82b321e303a"
      },
      "source": [
        "roc_auc_score(y_test, clf.predict_proba(X_test)[:,1])"
      ],
      "execution_count": 38,
      "outputs": [
        {
          "output_type": "execute_result",
          "data": {
            "text/plain": [
              "0.9860710353261697"
            ]
          },
          "metadata": {
            "tags": []
          },
          "execution_count": 38
        }
      ]
    },
    {
      "cell_type": "code",
      "metadata": {
        "colab": {
          "base_uri": "https://localhost:8080/"
        },
        "id": "w33NnJQise_V",
        "outputId": "42196969-07f7-486f-cf8d-ddebdee2696e"
      },
      "source": [
        "clf.coef_"
      ],
      "execution_count": 39,
      "outputs": [
        {
          "output_type": "execute_result",
          "data": {
            "text/plain": [
              "array([[-8.32004619, -7.47951669, -9.28059652, ..., -9.28059652,\n",
              "        -9.03360849, -9.28059652]])"
            ]
          },
          "metadata": {
            "tags": []
          },
          "execution_count": 39
        }
      ]
    },
    {
      "cell_type": "code",
      "metadata": {
        "id": "uYeZsbRMsjIo"
      },
      "source": [
        "def get_most_important_features(vectorizer, model, n=5):\r\n",
        "    index_to_word = {v:k for k,v in vectorizer.vocabulary_.items()}\r\n",
        "    \r\n",
        "    # loop for each class\r\n",
        "    classes ={}\r\n",
        "    for class_index in range(model.coef_.shape[0]):\r\n",
        "        word_importances = [(el, index_to_word[i]) for i,el in enumerate(model.coef_[class_index])]\r\n",
        "        sorted_coeff = sorted(word_importances, key = lambda x : x[0], reverse=True)\r\n",
        "        tops = sorted(sorted_coeff[:n], key = lambda x : x[0])\r\n",
        "        bottom = sorted_coeff[-n:]\r\n",
        "        classes[class_index] = {\r\n",
        "            'tops':tops,\r\n",
        "            'bottom':bottom\r\n",
        "        }\r\n",
        "    return classes\r\n",
        "\r\n",
        "importance = get_most_important_features(vectorizer, clf, 20)"
      ],
      "execution_count": 40,
      "outputs": []
    },
    {
      "cell_type": "code",
      "metadata": {
        "colab": {
          "base_uri": "https://localhost:8080/"
        },
        "id": "8OOwZiZjsqUP",
        "outputId": "e1985f3e-0159-46a9-d34d-cefd3a1021b3"
      },
      "source": [
        "print (importance)"
      ],
      "execution_count": 41,
      "outputs": [
        {
          "output_type": "stream",
          "text": [
            "{0: {'tops': [(-7.034722745167066, 'contact'), (-7.0192431775020125, 'send'), (-7.0180305556682505, 'nokia'), (-6.999660733091444, 'win'), (-6.976374830489329, 'urgent'), (-6.9345729881472495, 'uk'), (-6.892600549063332, '150p'), (-6.850619592906504, 'new'), (-6.834833692683523, 'cash'), (-6.6988571996726005, 'prize'), (-6.659696510546983, 'www'), (-6.576817336834772, 'reply'), (-6.573146319288703, 'ur'), (-6.543024438958931, 'stop'), (-6.529295177179554, 'text'), (-6.516552989904275, 'claim'), (-6.466812835224328, 'mobile'), (-6.378697897476828, 'txt'), (-6.064898023522728, 'free'), (-5.79056323187441, 'call')], 'bottom': [(-9.280596521664538, 'yoyyooo'), (-9.280596521664538, 'ystrday'), (-9.280596521664538, 'ything'), (-9.280596521664538, 'yummmm'), (-9.280596521664538, 'yummy'), (-9.280596521664538, 'yun'), (-9.280596521664538, 'yunny'), (-9.280596521664538, 'yuo'), (-9.280596521664538, 'yuou'), (-9.280596521664538, 'yup'), (-9.280596521664538, 'yupz'), (-9.280596521664538, 'zac'), (-9.280596521664538, 'zaher'), (-9.280596521664538, 'zealand'), (-9.280596521664538, 'zeros'), (-9.280596521664538, 'zhong'), (-9.280596521664538, 'zindgi'), (-9.280596521664538, 'zogtorius'), (-9.280596521664538, 'zoom'), (-9.280596521664538, 'zyada')]}}\n"
          ],
          "name": "stdout"
        }
      ]
    },
    {
      "cell_type": "code",
      "metadata": {
        "colab": {
          "base_uri": "https://localhost:8080/",
          "height": 686
        },
        "id": "uLpHJuiLsybl",
        "outputId": "5cc60109-011f-484a-b7c9-989addb9499e"
      },
      "source": [
        "import numpy as np\r\n",
        "import matplotlib.pyplot as plt\r\n",
        "%matplotlib inline\r\n",
        "def plot_important_words(top_scores, top_words, bottom_scores, bottom_words, name):\r\n",
        "    y_pos = np.arange(len(top_words))\r\n",
        "    top_pairs = [(a,b) for a,b in zip(top_words, top_scores)]\r\n",
        "    top_pairs = sorted(top_pairs, key=lambda x: x[1])\r\n",
        "    \r\n",
        "    bottom_pairs = [(a,b) for a,b in zip(bottom_words, bottom_scores)]\r\n",
        "    bottom_pairs = sorted(bottom_pairs, key=lambda x: x[1], reverse=True)\r\n",
        "    \r\n",
        "    top_words = [a[0] for a in top_pairs]\r\n",
        "    top_scores = [a[1] for a in top_pairs]\r\n",
        "    \r\n",
        "    bottom_words = [a[0] for a in bottom_pairs]\r\n",
        "    bottom_scores = [a[1] for a in bottom_pairs]\r\n",
        "    fig = plt.figure(figsize=(10, 10))  \r\n",
        "\r\n",
        "    plt.subplot(121)\r\n",
        "    plt.barh(y_pos,bottom_scores, align='center', alpha=0.5)\r\n",
        "    plt.title('Ham', fontsize=20)\r\n",
        "    plt.yticks(y_pos, bottom_words, fontsize=14)\r\n",
        "    plt.suptitle('Key words', fontsize=16)\r\n",
        "    plt.xlabel('Importance', fontsize=20)\r\n",
        "    \r\n",
        "    plt.subplot(122)\r\n",
        "    plt.barh(y_pos,top_scores, align='center', alpha=0.5)\r\n",
        "    plt.title('Spam', fontsize=20)\r\n",
        "    plt.yticks(y_pos, top_words, fontsize=14)\r\n",
        "    plt.suptitle(name, fontsize=16)\r\n",
        "    plt.xlabel('Importance', fontsize=20)\r\n",
        "    \r\n",
        "    plt.subplots_adjust(wspace=0.8)\r\n",
        "    plt.show()\r\n",
        "top_scores = [a[0] for a in importance[0]['tops']]\r\n",
        "top_words = [a[1] for a in importance[0]['tops']]\r\n",
        "bottom_scores = [a[0] for a in importance[0]['bottom']]\r\n",
        "bottom_words = [a[1] for a in importance[0]['bottom']]\r\n",
        "\r\n",
        "plot_important_words(top_scores, top_words, bottom_scores, bottom_words, \"Most important words for relevance\")"
      ],
      "execution_count": 42,
      "outputs": [
        {
          "output_type": "display_data",
          "data": {
            "image/png": "[encoded data removed]",
            "text/plain": [
              "<Figure size 720x720 with 2 Axes>"
            ]
          },
          "metadata": {
            "tags": [],
            "needs_background": "light"
          }
        }
      ]
    }
  ]
}